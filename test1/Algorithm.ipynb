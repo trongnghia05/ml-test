{
 "cells": [
  {
   "cell_type": "markdown",
   "metadata": {},
   "source": [
    "# 1. Ý tưởng thuật toán \n",
    "\n",
    "- Đầu tiên xếp các phần tử âm cạnh nhau và phần tử dương cạnh nhau thông qua hàm segregate, muc đích làm việc này để cho bước sau là việc đánh dấu các phần tử dương có thể thực hiện được.\n",
    "- Sau khi các phần tử dương đã ở cạnh nhau, ta chỉ cần quét một vòng for đối với các phần tử dương này và dựa vào độ lớn của phần tử để đánh dấu vị trí đã quét qua, số dương nào có trong dãy thì chỉ số có độ lớn bằng số đó trừ đi $1$ (phải trừ đi $1$ do chỉ số bắt đầu từ $0$) sẽ được đánh dấu âm, như vậy phần tử nào sau khi đã đánh dấu xong mà dương thì có nghĩa số dương có độ lớn bằng chỉ số đó cộng thêm $1$ (cộng thêm $1$ do chỉ số bắt đầu từ $0$) không xuất hiện trong dãy, đồng nghĩa với việc chỉ số của số nguyên dương đầu tiên trong dãy chính là số nguyên dương còn thiếu nhỏ nhất cần tìm.\\\n",
    "ví dụ: dãy số dương là $arr = [4,3,1]$ \n",
    "    + khi xét đến phần tử đầu tiên có giá trị là  $4$ nên chỉ số cần được đánh dấu là $|4| - 1 = 3$ (> size arr => không cần đánh dấu) \n",
    "    + khi xét đến phần tử thứ hai có giá trị là 3 nên chỉ số cần được đánh dấu là $|3| - 1 = 2$, nên  $arr = [4,3,-1]$\n",
    "    + khi xét đến phần tử thứ ba có giá trị là -1 nên chỉ số cần được đánh dấu là $|-1| - 1 = 0$, nên  $arr = [-4,3,-1]$\n",
    "- Sau bước đánh dấu thì chỉ số của số nguyên dương đầu tiên trong dãy sau khi đánh dấu chính là số nguyên dương nhỏ nhất cần tìm.\\\n",
    "Theo ví dụ trên ta có arr cuối cùng là $arr = [-4,3,-1]$, vậy phần tử dương bé nhất còn thiếu sẽ là chỉ số của số nguyên dương đầu tiên trong dãy là $2$ (do không xét số $0$ nên ta sẽ lấy chỉ số cộng thêm $1$ tức $1 + 1 = 2$)\n",
    "\n",
    "# 2. Chứng minh độ phức tạp $O(n)$\n",
    "\n",
    "- Xét hàm segregate:\n",
    "    - Phép gán tại #5 và #4 đều có độ phức tạp là $O(1)$ nên #3 có độ phức tạp là $O(1)$\n",
    "    - Vòng for #2 thực hiện size lần (n lần) mỗi lần tốn $O(1)$nên #2 có độ phức tạp là  $O((n).1) = O(n)$. Vậy hàm segregate có độ phức tạp là $O(n)$.\n",
    "    \n",
    "- Xét hàm find_miss_positive:\n",
    "    - Ta có độ phức tạp #6 là $O(n)$\n",
    "    - Độ phức tạp của #7 và #8 đều là là $O(1)$\n",
    "    - Ta có độ phức tạp #11 là $O(1)$ nên độ phức tạp của #10 là $O(1)$, do đó #9 sẽ có độ phức tạp là $O(n-\\text{shift})$, tương tự như vậy #12 cũng có độ phức tạp là $O(n-\\text{shift})$\n",
    "    - Như vậy từ có độ phức tạp của #6, #7, #8, #9, #12 lần lượt là $O(n)$, $O(1)$, $O(1)$, $O(n-\\text{shift})$, $O(n-\\text{shift})$, do đó độ phức tạp của hàm find_miss_positive là $O(n)$ cũng chính là độ phức tạp của toàn bộ chương trình."
   ]
  },
  {
   "cell_type": "code",
   "execution_count": 1,
   "metadata": {},
   "outputs": [
    {
     "name": "stdout",
     "output_type": "stream",
     "text": [
      "Số dương nhỏ nhất bị thiếu của [-1, 4, 3, 1] là: 2\n",
      "Số dương nhỏ nhất bị thiếu của [-8, -7, -6] là: 1\n"
     ]
    }
   ],
   "source": [
    "# đẩy các số dương về bên phải và trả về chỉ số của số nguyên dương đầu tiên\n",
    "def segregate(arr, size):\n",
    "    index = 0                                                         #1\n",
    "    for i in range(size):                                             #2\n",
    "        if (arr[i] <= 0):                                             #3\n",
    "            arr[i], arr[index] = arr[index], arr[i]                   #4\n",
    "            index += 1                                                #5 \n",
    "    return index\n",
    "\n",
    "\n",
    "# tìm số dương nhỏ nhất bị thiếu\n",
    "def find_miss_positive(arr, size):\n",
    "    shift = segregate(arr, size)                                      #6\n",
    "    arr = arr[shift:]                                                 #7\n",
    "    new_size = size - shift                                           #8\n",
    "    \n",
    "    # đánh dấu các phần tử dương tồn tại trong dãy\n",
    "    for i in range(new_size):                                         #9\n",
    "        if (abs(arr[i]) - 1 < new_size and arr[abs(arr[i]) - 1] > 0): #10\n",
    "            arr[abs(arr[i]) - 1] = -arr[abs(arr[i]) - 1]              #11 \n",
    "    \n",
    "    # chỉ số của số dương đầu tiên trong dãy chính là số cần tìm\n",
    "    for i in range(new_size):                                         #12                  \n",
    "        if (arr[i] > 0):                                              #13 \n",
    "            return i + 1                                              #14\n",
    "    return new_size + 1                                           \n",
    "\n",
    "\n",
    "if __name__ == '__main__':\n",
    "    arr1 = [3, 4, -1, 1]\n",
    "    arr2 = [-8, -7, -6]\n",
    "    missing1 = find_miss_positive(arr1, len(arr1))\n",
    "    missing2 = find_miss_positive(arr2, len(arr2))\n",
    "    print(\"Số dương nhỏ nhất bị thiếu của {} là: {}\".format(arr1, missing1))\n",
    "    print(\"Số dương nhỏ nhất bị thiếu của {} là: {}\".format(arr2, missing2))"
   ]
  },
  {
   "cell_type": "code",
   "execution_count": null,
   "metadata": {},
   "outputs": [],
   "source": []
  }
 ],
 "metadata": {
  "kernelspec": {
   "display_name": "Python 3",
   "language": "python",
   "name": "python3"
  },
  "language_info": {
   "codemirror_mode": {
    "name": "ipython",
    "version": 3
   },
   "file_extension": ".py",
   "mimetype": "text/x-python",
   "name": "python",
   "nbconvert_exporter": "python",
   "pygments_lexer": "ipython3",
   "version": "3.6.8"
  }
 },
 "nbformat": 4,
 "nbformat_minor": 4
}
